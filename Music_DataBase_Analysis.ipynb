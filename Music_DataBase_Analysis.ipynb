{
 "cells": [
  {
   "cell_type": "code",
   "execution_count": 1,
   "metadata": {
    "collapsed": false
   },
   "outputs": [
    {
     "data": {
      "text/plain": [
       "'Connected: None@chinook.db'"
      ]
     },
     "execution_count": 1,
     "metadata": {},
     "output_type": "execute_result"
    }
   ],
   "source": [
    "%%capture\n",
    "%load_ext sql\n",
    "%sql sqlite:///chinook.db"
   ]
  },
  {
   "cell_type": "code",
   "execution_count": 2,
   "metadata": {
    "collapsed": false
   },
   "outputs": [
    {
     "name": "stdout",
     "output_type": "stream",
     "text": [
      "Done.\n"
     ]
    },
    {
     "data": {
      "text/html": [
       "<table>\n",
       "    <tr>\n",
       "        <th>name</th>\n",
       "        <th>type</th>\n",
       "    </tr>\n",
       "    <tr>\n",
       "        <td>album</td>\n",
       "        <td>table</td>\n",
       "    </tr>\n",
       "    <tr>\n",
       "        <td>artist</td>\n",
       "        <td>table</td>\n",
       "    </tr>\n",
       "    <tr>\n",
       "        <td>customer</td>\n",
       "        <td>table</td>\n",
       "    </tr>\n",
       "    <tr>\n",
       "        <td>employee</td>\n",
       "        <td>table</td>\n",
       "    </tr>\n",
       "    <tr>\n",
       "        <td>genre</td>\n",
       "        <td>table</td>\n",
       "    </tr>\n",
       "    <tr>\n",
       "        <td>invoice</td>\n",
       "        <td>table</td>\n",
       "    </tr>\n",
       "    <tr>\n",
       "        <td>invoice_line</td>\n",
       "        <td>table</td>\n",
       "    </tr>\n",
       "    <tr>\n",
       "        <td>media_type</td>\n",
       "        <td>table</td>\n",
       "    </tr>\n",
       "    <tr>\n",
       "        <td>playlist</td>\n",
       "        <td>table</td>\n",
       "    </tr>\n",
       "    <tr>\n",
       "        <td>playlist_track</td>\n",
       "        <td>table</td>\n",
       "    </tr>\n",
       "    <tr>\n",
       "        <td>track</td>\n",
       "        <td>table</td>\n",
       "    </tr>\n",
       "    <tr>\n",
       "        <td>Data</td>\n",
       "        <td>view</td>\n",
       "    </tr>\n",
       "    <tr>\n",
       "        <td>Album_Purchase</td>\n",
       "        <td>view</td>\n",
       "    </tr>\n",
       "</table>"
      ],
      "text/plain": [
       "[('album', 'table'),\n",
       " ('artist', 'table'),\n",
       " ('customer', 'table'),\n",
       " ('employee', 'table'),\n",
       " ('genre', 'table'),\n",
       " ('invoice', 'table'),\n",
       " ('invoice_line', 'table'),\n",
       " ('media_type', 'table'),\n",
       " ('playlist', 'table'),\n",
       " ('playlist_track', 'table'),\n",
       " ('track', 'table'),\n",
       " ('Data', 'view'),\n",
       " ('Album_Purchase', 'view')]"
      ]
     },
     "execution_count": 2,
     "metadata": {},
     "output_type": "execute_result"
    }
   ],
   "source": [
    "%%sql\n",
    "SELECT\n",
    "    name,\n",
    "    type\n",
    "FROM sqlite_master\n",
    "WHERE type IN (\"table\",\"view\");"
   ]
  },
  {
   "cell_type": "markdown",
   "metadata": {},
   "source": [
    "## Test run"
   ]
  },
  {
   "cell_type": "code",
   "execution_count": 3,
   "metadata": {
    "collapsed": false
   },
   "outputs": [
    {
     "name": "stdout",
     "output_type": "stream",
     "text": [
      "Done.\n"
     ]
    },
    {
     "data": {
      "text/html": [
       "<table>\n",
       "    <tr>\n",
       "        <th>COUNT(*)</th>\n",
       "    </tr>\n",
       "    <tr>\n",
       "        <td>25</td>\n",
       "    </tr>\n",
       "</table>"
      ],
      "text/plain": [
       "[(25,)]"
      ]
     },
     "execution_count": 3,
     "metadata": {},
     "output_type": "execute_result"
    }
   ],
   "source": [
    "%%sql\n",
    "\n",
    "SELECT COUNT(*) FROM genre;"
   ]
  },
  {
   "cell_type": "markdown",
   "metadata": {},
   "source": [
    "## Query to retrieve most popular genre sold in U.S."
   ]
  },
  {
   "cell_type": "code",
   "execution_count": 4,
   "metadata": {
    "collapsed": false
   },
   "outputs": [
    {
     "name": "stdout",
     "output_type": "stream",
     "text": [
      "Done.\n"
     ]
    },
    {
     "data": {
      "text/html": [
       "<table>\n",
       "    <tr>\n",
       "        <th>name</th>\n",
       "        <th>number_of_tracks_sold</th>\n",
       "        <th>percentage</th>\n",
       "    </tr>\n",
       "    <tr>\n",
       "        <td>Rock</td>\n",
       "        <td>561</td>\n",
       "        <td>53.38</td>\n",
       "    </tr>\n",
       "    <tr>\n",
       "        <td>Alternative &amp; Punk</td>\n",
       "        <td>130</td>\n",
       "        <td>12.37</td>\n",
       "    </tr>\n",
       "    <tr>\n",
       "        <td>Metal</td>\n",
       "        <td>124</td>\n",
       "        <td>11.8</td>\n",
       "    </tr>\n",
       "    <tr>\n",
       "        <td>R&amp;B/Soul</td>\n",
       "        <td>53</td>\n",
       "        <td>5.04</td>\n",
       "    </tr>\n",
       "    <tr>\n",
       "        <td>Blues</td>\n",
       "        <td>36</td>\n",
       "        <td>3.43</td>\n",
       "    </tr>\n",
       "    <tr>\n",
       "        <td>Alternative</td>\n",
       "        <td>35</td>\n",
       "        <td>3.33</td>\n",
       "    </tr>\n",
       "    <tr>\n",
       "        <td>Latin</td>\n",
       "        <td>22</td>\n",
       "        <td>2.09</td>\n",
       "    </tr>\n",
       "    <tr>\n",
       "        <td>Pop</td>\n",
       "        <td>22</td>\n",
       "        <td>2.09</td>\n",
       "    </tr>\n",
       "    <tr>\n",
       "        <td>Hip Hop/Rap</td>\n",
       "        <td>20</td>\n",
       "        <td>1.9</td>\n",
       "    </tr>\n",
       "    <tr>\n",
       "        <td>Jazz</td>\n",
       "        <td>14</td>\n",
       "        <td>1.33</td>\n",
       "    </tr>\n",
       "    <tr>\n",
       "        <td>Easy Listening</td>\n",
       "        <td>13</td>\n",
       "        <td>1.24</td>\n",
       "    </tr>\n",
       "    <tr>\n",
       "        <td>Reggae</td>\n",
       "        <td>6</td>\n",
       "        <td>0.57</td>\n",
       "    </tr>\n",
       "    <tr>\n",
       "        <td>Electronica/Dance</td>\n",
       "        <td>5</td>\n",
       "        <td>0.48</td>\n",
       "    </tr>\n",
       "    <tr>\n",
       "        <td>Classical</td>\n",
       "        <td>4</td>\n",
       "        <td>0.38</td>\n",
       "    </tr>\n",
       "    <tr>\n",
       "        <td>Heavy Metal</td>\n",
       "        <td>3</td>\n",
       "        <td>0.29</td>\n",
       "    </tr>\n",
       "    <tr>\n",
       "        <td>Soundtrack</td>\n",
       "        <td>2</td>\n",
       "        <td>0.19</td>\n",
       "    </tr>\n",
       "    <tr>\n",
       "        <td>TV Shows</td>\n",
       "        <td>1</td>\n",
       "        <td>0.1</td>\n",
       "    </tr>\n",
       "</table>"
      ],
      "text/plain": [
       "[('Rock', 561, 53.38),\n",
       " ('Alternative & Punk', 130, 12.37),\n",
       " ('Metal', 124, 11.8),\n",
       " ('R&B/Soul', 53, 5.04),\n",
       " ('Blues', 36, 3.43),\n",
       " ('Alternative', 35, 3.33),\n",
       " ('Latin', 22, 2.09),\n",
       " ('Pop', 22, 2.09),\n",
       " ('Hip Hop/Rap', 20, 1.9),\n",
       " ('Jazz', 14, 1.33),\n",
       " ('Easy Listening', 13, 1.24),\n",
       " ('Reggae', 6, 0.57),\n",
       " ('Electronica/Dance', 5, 0.48),\n",
       " ('Classical', 4, 0.38),\n",
       " ('Heavy Metal', 3, 0.29),\n",
       " ('Soundtrack', 2, 0.19),\n",
       " ('TV Shows', 1, 0.1)]"
      ]
     },
     "execution_count": 4,
     "metadata": {},
     "output_type": "execute_result"
    }
   ],
   "source": [
    "%%sql\n",
    "\n",
    "WITH country AS\n",
    "            (SELECT c.customer_id, country, t.name, t.genre_id, quantity\n",
    "            FROM customer c JOIN invoice i ON c.customer_id = i.customer_id\n",
    "            JOIN invoice_line il ON i.invoice_id = il.invoice_id\n",
    "            JOIN track t ON il.track_id = t.track_id\n",
    "            WHERE LOWER(c.country) = \"usa\"),\n",
    "    track_sold_genre_wise AS(\n",
    "            SELECT g.name, COUNT(*) number_of_tracks_sold,\n",
    "            ROUND(CAST(SUM(quantity) AS FLOAT)/\n",
    "        CAST((SELECT COUNT(*) FROM country) AS FLOAT)*100,2) percentage\n",
    "        FROM country c JOIN genre g ON c.genre_id = g.genre_id\n",
    "        GROUP BY g.genre_id ORDER BY 2 DESC\n",
    "    )\n",
    "\n",
    "    \n",
    "SELECT * FROM track_sold_genre_wise;\n",
    "    \n",
    "  \n",
    "            \n",
    "            "
   ]
  },
  {
   "cell_type": "markdown",
   "metadata": {},
   "source": [
    "According to the sales record it would be profitable to add the following genre in the collection\n",
    "- Red Tone (Punk)\n",
    "- Meteor and the Girls (Pop)\n",
    "- Slim Jim Bites (Blues)\n",
    "\n",
    "However, it is worth considering that Rock alone covers 53.4% of the market which is greater than combined market (17%) of the chosen genres."
   ]
  },
  {
   "cell_type": "markdown",
   "metadata": {
    "collapsed": true
   },
   "source": [
    "## Query to retrieve Total sales generated by each Employee"
   ]
  },
  {
   "cell_type": "code",
   "execution_count": 5,
   "metadata": {
    "collapsed": false
   },
   "outputs": [
    {
     "name": "stdout",
     "output_type": "stream",
     "text": [
      "Done.\n"
     ]
    },
    {
     "data": {
      "text/html": [
       "<table>\n",
       "    <tr>\n",
       "        <th>Employee_name</th>\n",
       "        <th>Hired On</th>\n",
       "        <th>Age</th>\n",
       "        <th>Title</th>\n",
       "        <th>Total Sales</th>\n",
       "    </tr>\n",
       "    <tr>\n",
       "        <td>Jane Peacock</td>\n",
       "        <td>2017-04-01 00:00:00</td>\n",
       "        <td>49</td>\n",
       "        <td>Sales Support Agent</td>\n",
       "        <td>1731.51</td>\n",
       "    </tr>\n",
       "    <tr>\n",
       "        <td>Margaret Park</td>\n",
       "        <td>2017-05-03 00:00:00</td>\n",
       "        <td>75</td>\n",
       "        <td>Sales Support Agent</td>\n",
       "        <td>1584.0</td>\n",
       "    </tr>\n",
       "    <tr>\n",
       "        <td>Steve Johnson</td>\n",
       "        <td>2017-10-17 00:00:00</td>\n",
       "        <td>57</td>\n",
       "        <td>Sales Support Agent</td>\n",
       "        <td>1393.92</td>\n",
       "    </tr>\n",
       "    <tr>\n",
       "        <td>Andrew Adams</td>\n",
       "        <td>2016-08-14 00:00:00</td>\n",
       "        <td>60</td>\n",
       "        <td>General Manager</td>\n",
       "        <td>None</td>\n",
       "    </tr>\n",
       "    <tr>\n",
       "        <td>Laura Callahan</td>\n",
       "        <td>2017-03-04 00:00:00</td>\n",
       "        <td>54</td>\n",
       "        <td>IT Staff</td>\n",
       "        <td>None</td>\n",
       "    </tr>\n",
       "    <tr>\n",
       "        <td>Michael Mitchell</td>\n",
       "        <td>2016-10-17 00:00:00</td>\n",
       "        <td>49</td>\n",
       "        <td>IT Manager</td>\n",
       "        <td>None</td>\n",
       "    </tr>\n",
       "    <tr>\n",
       "        <td>Nancy Edwards</td>\n",
       "        <td>2016-05-01 00:00:00</td>\n",
       "        <td>64</td>\n",
       "        <td>Sales Manager</td>\n",
       "        <td>None</td>\n",
       "    </tr>\n",
       "    <tr>\n",
       "        <td>Robert King</td>\n",
       "        <td>2017-01-02 00:00:00</td>\n",
       "        <td>52</td>\n",
       "        <td>IT Staff</td>\n",
       "        <td>None</td>\n",
       "    </tr>\n",
       "</table>"
      ],
      "text/plain": [
       "[('Jane Peacock', '2017-04-01 00:00:00', 49, 'Sales Support Agent', 1731.51),\n",
       " ('Margaret Park', '2017-05-03 00:00:00', 75, 'Sales Support Agent', 1584.0),\n",
       " ('Steve Johnson', '2017-10-17 00:00:00', 57, 'Sales Support Agent', 1393.92),\n",
       " ('Andrew Adams', '2016-08-14 00:00:00', 60, 'General Manager', None),\n",
       " ('Laura Callahan', '2017-03-04 00:00:00', 54, 'IT Staff', None),\n",
       " ('Michael Mitchell', '2016-10-17 00:00:00', 49, 'IT Manager', None),\n",
       " ('Nancy Edwards', '2016-05-01 00:00:00', 64, 'Sales Manager', None),\n",
       " ('Robert King', '2017-01-02 00:00:00', 52, 'IT Staff', None)]"
      ]
     },
     "execution_count": 5,
     "metadata": {},
     "output_type": "execute_result"
    }
   ],
   "source": [
    "%%sql\n",
    "\n",
    "With customer_sales AS\n",
    "                    (SELECT c.customer_id, c.first_name ||\" \"|| c.last_name\n",
    "                     customer_name, support_rep_id, SUM(total) total_purchases\n",
    "                     FROM customer c JOIN invoice i ON c.customer_id=i.customer_id\n",
    "                     GROUP BY 1 ORDER BY 3 DESC\n",
    "                    ),\n",
    "    employee_performance AS\n",
    "                    (SELECT first_name ||\" \"|| last_name Employee_name,\n",
    "                     hire_date \"Hired On\",\n",
    "                     CURRENT_TIMESTAMP - birthdate Age,\n",
    "                     title Title,\n",
    "                     ROUND(SUM(total_purchases),2) \"Total Sales\"\n",
    "                     FROM employee LEFT JOIN customer_sales ON \n",
    "                     employee_id = support_rep_id\n",
    "                     GROUP BY 1 ORDER BY 5 DESC\n",
    "                     \n",
    "                    )\n",
    "    \n",
    "SELECT * FROM employee_performance; \n"
   ]
  },
  {
   "cell_type": "markdown",
   "metadata": {},
   "source": [
    "Although, at first insight all the employees are seemed to be performing as expected. The sales generated is positively co-related to time spent with company; however a deeper look shows that Steve was hired with more time gap than Margaret and yet his sales performance is very close to him."
   ]
  },
  {
   "cell_type": "markdown",
   "metadata": {
    "collapsed": true
   },
   "source": [
    "## Query to retrieve Customer and Sales data by each Country"
   ]
  },
  {
   "cell_type": "code",
   "execution_count": 6,
   "metadata": {
    "collapsed": false
   },
   "outputs": [
    {
     "name": "stdout",
     "output_type": "stream",
     "text": [
      "Done.\n",
      "Done.\n",
      "Done.\n"
     ]
    },
    {
     "data": {
      "text/html": [
       "<table>\n",
       "    <tr>\n",
       "        <th>Country</th>\n",
       "        <th>Total Customers</th>\n",
       "        <th>Total Sales</th>\n",
       "        <th>Average Sales per Customer</th>\n",
       "    </tr>\n",
       "    <tr>\n",
       "        <td>USA</td>\n",
       "        <td>13</td>\n",
       "        <td>1040.49</td>\n",
       "        <td>7.94</td>\n",
       "    </tr>\n",
       "    <tr>\n",
       "        <td>Canada</td>\n",
       "        <td>8</td>\n",
       "        <td>535.59</td>\n",
       "        <td>7.05</td>\n",
       "    </tr>\n",
       "    <tr>\n",
       "        <td>Brazil</td>\n",
       "        <td>5</td>\n",
       "        <td>427.68</td>\n",
       "        <td>7.01</td>\n",
       "    </tr>\n",
       "    <tr>\n",
       "        <td>France</td>\n",
       "        <td>5</td>\n",
       "        <td>389.07</td>\n",
       "        <td>7.78</td>\n",
       "    </tr>\n",
       "    <tr>\n",
       "        <td>Germany</td>\n",
       "        <td>4</td>\n",
       "        <td>334.62</td>\n",
       "        <td>8.16</td>\n",
       "    </tr>\n",
       "    <tr>\n",
       "        <td>United Kingdom</td>\n",
       "        <td>3</td>\n",
       "        <td>245.52</td>\n",
       "        <td>8.77</td>\n",
       "    </tr>\n",
       "    <tr>\n",
       "        <td>Czech Republic</td>\n",
       "        <td>2</td>\n",
       "        <td>273.24</td>\n",
       "        <td>9.11</td>\n",
       "    </tr>\n",
       "    <tr>\n",
       "        <td>India</td>\n",
       "        <td>2</td>\n",
       "        <td>183.15</td>\n",
       "        <td>8.72</td>\n",
       "    </tr>\n",
       "    <tr>\n",
       "        <td>Portugal</td>\n",
       "        <td>2</td>\n",
       "        <td>185.13</td>\n",
       "        <td>6.38</td>\n",
       "    </tr>\n",
       "    <tr>\n",
       "        <td>Others</td>\n",
       "        <td>15</td>\n",
       "        <td>1094.94</td>\n",
       "        <td>7.444</td>\n",
       "    </tr>\n",
       "</table>"
      ],
      "text/plain": [
       "[('USA', 13, 1040.49, 7.94),\n",
       " ('Canada', 8, 535.59, 7.05),\n",
       " ('Brazil', 5, 427.68, 7.01),\n",
       " ('France', 5, 389.07, 7.78),\n",
       " ('Germany', 4, 334.62, 8.16),\n",
       " ('United Kingdom', 3, 245.52, 8.77),\n",
       " ('Czech Republic', 2, 273.24, 9.11),\n",
       " ('India', 2, 183.15, 8.72),\n",
       " ('Portugal', 2, 185.13, 6.38),\n",
       " ('Others', 15, 1094.94, 7.444)]"
      ]
     },
     "execution_count": 6,
     "metadata": {},
     "output_type": "execute_result"
    }
   ],
   "source": [
    "%%sql\n",
    "\n",
    "DROP VIEW IF Exists DATA;\n",
    "\n",
    "CREATE VIEW Data AS\n",
    "            SELECT country Country,\n",
    "             COUNT(distinct c.customer_id) \"Total Customers\",\n",
    "             ROUND(SUM(total),2) \"Total Sales\",\n",
    "             ROUND(SUM(total)/COUNT(c.customer_id), 2) \"Average Sales per Customer\"\n",
    "             FROM customer c JOIN invoice i ON c.customer_id=i.customer_id\n",
    "            GROUP BY Country;\n",
    "            \n",
    "\n",
    "SELECT\n",
    "        country,\n",
    "        \"Total Customers\",\n",
    "        \"Total Sales\",\n",
    "        \"Average Sales per Customer\"\n",
    "FROM\n",
    "(SELECT *, 0 sort FROM Data WHERE \"Total Customers\" > 1\n",
    "\n",
    "UNION\n",
    "\n",
    "SELECT \"Others\", SUM(\"Total Customers\"),\n",
    "SUM(\"Total Sales\"),\n",
    "AVG(\"Average Sales per Customer\"),\n",
    "1 sort\n",
    "FROM Data\n",
    "WHERE \"Total Customers\" = 1\n",
    "ORDER BY sort, 2 DESC);\n",
    "\n"
   ]
  },
  {
   "cell_type": "markdown",
   "metadata": {},
   "source": [
    "## Query to find out if invoice were an album purchase"
   ]
  },
  {
   "cell_type": "code",
   "execution_count": 7,
   "metadata": {
    "collapsed": false
   },
   "outputs": [
    {
     "name": "stdout",
     "output_type": "stream",
     "text": [
      "Done.\n",
      "Done.\n",
      "Done.\n"
     ]
    },
    {
     "data": {
      "text/html": [
       "<table>\n",
       "    <tr>\n",
       "        <th>category</th>\n",
       "    </tr>\n",
       "    <tr>\n",
       "        <td>No</td>\n",
       "    </tr>\n",
       "    <tr>\n",
       "        <td>No</td>\n",
       "    </tr>\n",
       "    <tr>\n",
       "        <td>No</td>\n",
       "    </tr>\n",
       "    <tr>\n",
       "        <td>Yes</td>\n",
       "    </tr>\n",
       "    <tr>\n",
       "        <td>No</td>\n",
       "    </tr>\n",
       "    <tr>\n",
       "        <td>Yes</td>\n",
       "    </tr>\n",
       "    <tr>\n",
       "        <td>Yes</td>\n",
       "    </tr>\n",
       "    <tr>\n",
       "        <td>No</td>\n",
       "    </tr>\n",
       "    <tr>\n",
       "        <td>Yes</td>\n",
       "    </tr>\n",
       "    <tr>\n",
       "        <td>No</td>\n",
       "    </tr>\n",
       "</table>"
      ],
      "text/plain": [
       "[('No',),\n",
       " ('No',),\n",
       " ('No',),\n",
       " ('Yes',),\n",
       " ('No',),\n",
       " ('Yes',),\n",
       " ('Yes',),\n",
       " ('No',),\n",
       " ('Yes',),\n",
       " ('No',)]"
      ]
     },
     "execution_count": 7,
     "metadata": {},
     "output_type": "execute_result"
    }
   ],
   "source": [
    "%%sql\n",
    "\n",
    "DROP VIEW IF Exists Album_Purchase;\n",
    "\n",
    "CREATE VIEW Album_Purchase AS\n",
    "SELECT CASE\n",
    "        WHEN (\n",
    "             SELECT distinct t.track_id\n",
    "             FROM track t NATURAL JOIN album a\n",
    "             WHERE a.album_id LIKE ( SELECT distinct t.album_id\n",
    "                                     FROM invoice i NATURAL JOIN invoice_line il\n",
    "                                     NATURAL JOIN track t\n",
    "                                     WHERE i.invoice_id = mi_id.invoice_id)\n",
    "              EXCEPT\n",
    "            \n",
    "              SELECT t.track_id\n",
    "              FROM invoice i NATURAL JOIN invoice_line il\n",
    "              NATURAL JOIN track t\n",
    "              WHERE i.invoice_id = mi_id.invoice_id\n",
    "             ) IS NULL\n",
    "        AND\n",
    "            (\n",
    "              SELECT t.track_id\n",
    "              FROM invoice i NATURAL JOIN invoice_line il\n",
    "              NATURAL JOIN track t\n",
    "              WHERE i.invoice_id = mi_id.invoice_id\n",
    "                \n",
    "              EXCEPT  \n",
    "              \n",
    "             SELECT distinct t.track_id\n",
    "             FROM track t NATURAL JOIN album a\n",
    "             WHERE a.album_id LIKE ( SELECT distinct t.album_id\n",
    "                                     FROM invoice i NATURAL JOIN invoice_line il\n",
    "                                     NATURAL JOIN track t\n",
    "                                     WHERE i.invoice_id = mi_id.invoice_id)  \n",
    "            )IS NULL THEN \"Yes\"\n",
    "        ELSE \"No\"\n",
    "        END AS category\n",
    "FROM invoice mi_id;\n",
    "\n",
    "SELECT * FROM Album_Purchase LIMIT 10;"
   ]
  },
  {
   "cell_type": "markdown",
   "metadata": {},
   "source": [
    "Number and Percentage of invoices as whole album purchase."
   ]
  },
  {
   "cell_type": "code",
   "execution_count": 8,
   "metadata": {
    "collapsed": false
   },
   "outputs": [
    {
     "name": "stdout",
     "output_type": "stream",
     "text": [
      "Done.\n"
     ]
    },
    {
     "data": {
      "text/html": [
       "<table>\n",
       "    <tr>\n",
       "        <th>Category</th>\n",
       "        <th>Number of invoices</th>\n",
       "        <th>% of invoices</th>\n",
       "    </tr>\n",
       "    <tr>\n",
       "        <td>No</td>\n",
       "        <td>500</td>\n",
       "        <td>81.0</td>\n",
       "    </tr>\n",
       "    <tr>\n",
       "        <td>Yes</td>\n",
       "        <td>114</td>\n",
       "        <td>19.0</td>\n",
       "    </tr>\n",
       "</table>"
      ],
      "text/plain": [
       "[('No', 500, 81.0), ('Yes', 114, 19.0)]"
      ]
     },
     "execution_count": 8,
     "metadata": {},
     "output_type": "execute_result"
    }
   ],
   "source": [
    "%%sql\n",
    "\n",
    "SELECT category Category, COUNT(*) \"Number of invoices\",\n",
    "ROUND(\n",
    "    CAST(COUNT(*) AS FLOAT)\n",
    "    /\n",
    "    (SELECT COUNT(*) FROM Album_Purchase),2)*100 \"% of invoices\"\n",
    "FROM Album_Purchase\n",
    "Group BY 1;"
   ]
  },
  {
   "cell_type": "markdown",
   "metadata": {},
   "source": [
    "From the analysis, only 19% of the sales involved full album. This shows that only a small percentage of market is willing to buy full albums therefore it would be best to not buy albums as whole. Chinook may focus on purchasing only the most popular tracks from every album."
   ]
  },
  {
   "cell_type": "markdown",
   "metadata": {},
   "source": [
    "# The END."
   ]
  },
  {
   "cell_type": "code",
   "execution_count": null,
   "metadata": {
    "collapsed": true
   },
   "outputs": [],
   "source": []
  }
 ],
 "metadata": {
  "kernelspec": {
   "display_name": "Python 3",
   "language": "python",
   "name": "python3"
  },
  "language_info": {
   "codemirror_mode": {
    "name": "ipython",
    "version": 3
   },
   "file_extension": ".py",
   "mimetype": "text/x-python",
   "name": "python",
   "nbconvert_exporter": "python",
   "pygments_lexer": "ipython3",
   "version": "3.4.3"
  }
 },
 "nbformat": 4,
 "nbformat_minor": 2
}
